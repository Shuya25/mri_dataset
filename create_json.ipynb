{
 "cells": [
  {
   "cell_type": "code",
   "execution_count": 1,
   "metadata": {},
   "outputs": [],
   "source": [
    "import pathlib\n",
    "import re\n",
    "import json\n",
    "import pandas as pd\n",
    "from collections import defaultdict\n",
    "from tqdm import tqdm\n",
    "\n",
    "# == Base ==\n",
    "DATA_DIR = pathlib.Path(\"/data\") / \"radiology_datas\"\n",
    "\n",
    "# == Dataset ==\n",
    "ADNI1 = DATA_DIR / \"ADNI1\"\n",
    "ADNI2 = DATA_DIR / \"JHU-radiology\" / \"20170509\"\n",
    "ADNI2_2 = DATA_DIR / \"JHU-radiology\" / \"MNI_skull_stripped\" / \"output\"\n",
    "PPMI = DATA_DIR / \"JHU-radiology\" / \"PPMI\"\n",
    "FourRTNI = DATA_DIR / \"JHU-radiology\" / \"4RTNI\"\n",
    "\n",
    "BLACKLIST_DIR = DATA_DIR / \"util\" / \"lists\"\n",
    "\n",
    "DATA_CSV = {\n",
    "    \"ADNI\": DATA_DIR / \"JHU-radiology\" / \"ADNIMERGE.csv\",\n",
    "    \"PPMI\": DATA_DIR / \"JHU-radiology\" / \"PPMI.csv\",\n",
    "    \"4RTNI\": FourRTNI / \"csv\" / \"4RTNI_DATA.csv\",\n",
    "}\n",
    "\n",
    "DATA_DIRS_DICT = {\n",
    "    \"ADNI1\": ADNI1,\n",
    "    \"ADNI2\": ADNI2,\n",
    "    \"ADNI2-2\": ADNI2_2,\n",
    "    \"PPMI\": PPMI,\n",
    "    \"4RTNI\": FourRTNI / \"SkullStripped\",\n",
    "}\n"
   ]
  },
  {
   "cell_type": "code",
   "execution_count": 2,
   "metadata": {},
   "outputs": [],
   "source": [
    "def get_uid(path):\n",
    "    \"\"\"\n",
    "    pathを受け取ってuidを返すだけ\n",
    "    Args\n",
    "    ----------\n",
    "    path : pathlib\n",
    "        pklファイルへのパス\n",
    "    Return\n",
    "    ----------\n",
    "    uid : int\n",
    "        uid\n",
    "    \"\"\"\n",
    "    uid = path.name\n",
    "    for key, value in DATA_DIRS_DICT.items():\n",
    "        if str(value) in str(path):\n",
    "\n",
    "            if key == \"ADNI2\":\n",
    "                uid = path.name.split(\"_\")[-2]\n",
    "                uid = int(uid[1:])\n",
    "\n",
    "            elif key == \"ADNI2-2\":\n",
    "                uid = path.name.split(\"_\")[-4]\n",
    "                uid = int(uid[1:])\n",
    "\n",
    "            elif key == \"PPMI\":\n",
    "                uid = path.name.split(\"_\")[-4]\n",
    "                uid = int(uid)\n",
    "\n",
    "            elif key == \"4RTNI\":\n",
    "                uid = path.name.split(\"_\")[-4]\n",
    "                uid = int(uid)\n",
    "\n",
    "            return uid\n",
    "\n",
    "\n",
    "def get_blacklist(dir):\n",
    "    \"\"\"\n",
    "    brain/util/listsの中にいるblacklistたちをuidのリストで返す\n",
    "    Args\n",
    "    ----------\n",
    "    Return\n",
    "    ----------\n",
    "    uid : list of int\n",
    "        uids\n",
    "    \"\"\"\n",
    "    key = \"**/uids.txt\"\n",
    "    excluded_uid_paths = dir.glob(key)\n",
    "    excluded_uids = []\n",
    "    for path in excluded_uid_paths:\n",
    "        with open(path, \"r\") as rf:\n",
    "            [excluded_uids.append(int(uid.rstrip(\"\\n\"))) for uid in rf]\n",
    "    return excluded_uids\n",
    "\n",
    "black_list = get_blacklist(BLACKLIST_DIR)\n"
   ]
  },
  {
   "cell_type": "code",
   "execution_count": 3,
   "metadata": {},
   "outputs": [
    {
     "name": "stderr",
     "output_type": "stream",
     "text": [
      "100%|██████████| 12729/12729 [00:09<00:00, 1377.77it/s]\n",
      "100%|██████████| 500/500 [00:00<00:00, 1066.73it/s]\n",
      "  0%|          | 0/124 [00:00<?, ?it/s]"
     ]
    },
    {
     "name": "stdout",
     "output_type": "stream",
     "text": [
      "ADNI1 /data/radiology_datas/ADNI1 nan 4_S_5010\n",
      "ADNI2 /data/radiology_datas/JHU-radiology/20170509 nan 4_S_5010\n",
      "ADNI2-2 /data/radiology_datas/JHU-radiology/MNI_skull_stripped/output nan 4_S_5010\n",
      "PPMI /data/radiology_datas/JHU-radiology/PPMI nan 4_S_5010\n",
      "4RTNI /data/radiology_datas/JHU-radiology/4RTNI/SkullStripped nan 4_S_5010\n"
     ]
    },
    {
     "name": "stderr",
     "output_type": "stream",
     "text": [
      "100%|██████████| 124/124 [00:00<00:00, 1130.44it/s]\n"
     ]
    },
    {
     "name": "stdout",
     "output_type": "stream",
     "text": [
      "8902\n"
     ]
    }
   ],
   "source": [
    "contents = []\n",
    "\n",
    "PTID = {\"ADNI\": \"PTID\", \"PPMI\": \"Subject\", \"4RTNI\": \"SUBID\"}\n",
    "PTCLASS = {\"ADNI\": \"DX_bl\", \"PPMI\": \"Group\", \"4RTNI\": \"DX\"}\n",
    "\n",
    "for csv_label, csv in DATA_CSV.items():\n",
    "\n",
    "  df = pd.read_csv(csv)\n",
    "  if csv_label == \"4RTNI\":\n",
    "    df[\"DX\"] = df[\"DX\"].map(\n",
    "        {\"CBS\": \"CBD\", \"PSP\": \"PSP\", \"Oth\": \"Oth\"}, na_action=None)\n",
    "\n",
    "  for data in tqdm(df.to_dict(orient=\"records\")):\n",
    "    ptclass = data[PTCLASS[csv_label]]\n",
    "    ptid = str(data[PTID[csv_label]])\n",
    "    for label, dir in DATA_DIRS_DICT.items():\n",
    "      try:\n",
    "        path = pathlib.Path(dir / ptclass / ptid)\n",
    "      except TypeError:\n",
    "        path = pathlib.Path(dir / \"Nan\" / ptid)\n",
    "        print(label, dir, ptclass, ptid, flush=True)\n",
    "\n",
    "      files = [p for p in path.glob('**/*')\n",
    "               if re.search('/*\\.(pkl|npy)', str(p))]\n",
    "      # files = list(path.glob(\"*.[p,n][k,p][l,y]\"))\n",
    "      if len(files) != 0:\n",
    "        dataset = label\n",
    "        break\n",
    "    # if len(files) == 0:\n",
    "      # print(f\"該当ファイルなし, {label=}, {ptclass=}, {ptid=}\")\n",
    "\n",
    "    add_list = defaultdict(lambda :defaultdict(list))\n",
    "    for f in files:\n",
    "      f_temp = str(f).split(\"/\")[-1]\n",
    "\n",
    "      uid = get_uid(f)\n",
    "      if f_temp.startswith(\"fullsize\"):\n",
    "        add_list[ptid][uid].append((\"full\", str(f)))\n",
    "      if f_temp.startswith(\"half\"):\n",
    "        add_list[ptid][uid].append((\"half\", str(f)))\n",
    "\n",
    "    for ptid, add_uid in add_list.items():\n",
    "      images = []\n",
    "      for uid, ls in add_uid.items():\n",
    "        if uid not in black_list:\n",
    "          blacklisted = False\n",
    "        else:\n",
    "          blacklisted = True\n",
    "        \n",
    "        for l in ls:\n",
    "          if l[0] == \"full\":\n",
    "            full = l[1]\n",
    "          elif l[0] == \"half\":\n",
    "            half = l[1]\n",
    "\n",
    "        images.append(\n",
    "          {\n",
    "            \"uid\": uid,\n",
    "            \"blacklisted\": blacklisted,\n",
    "            \"fullsize_img_path\": full,\n",
    "            \"halfsize_img_path\": half\n",
    "          }\n",
    "        )\n",
    "\n",
    "      content = {\n",
    "          \"id\": ptid,\n",
    "          \"class\": ptclass,\n",
    "          \"images\": images,\n",
    "          \"dataset\": dataset\n",
    "      }\n",
    "      contents.append(content)\n",
    "\n",
    "with open('./all_subject.json', 'w') as f:\n",
    "  json.dump(contents, f, ensure_ascii=False, indent=2)\n",
    "\n",
    "print(len(contents))\n"
   ]
  },
  {
   "cell_type": "code",
   "execution_count": 15,
   "metadata": {},
   "outputs": [
    {
     "name": "stdout",
     "output_type": "stream",
     "text": [
      "13528\n"
     ]
    },
    {
     "data": {
      "text/plain": [
       "{'uid': 35475,\n",
       " 'blacklisted': False,\n",
       " 'fullsize_img_path': '/data/radiology_datas/JHU-radiology/MNI_skull_stripped/output/CN/011_S_0002/fullsize011_S_0002_2005-08-26_S9107_I35475_flipped_MNI_SS.pkl',\n",
       " 'halfsize_img_path': '/data/radiology_datas/JHU-radiology/MNI_skull_stripped/output/CN/011_S_0002/half_011_S_0002_2005-08-26_S9107_I35475_flipped_MNI_SS.pkl',\n",
       " 'subject_id': '011_S_0002',\n",
       " 'class': 'CN',\n",
       " 'dataset': 'ADNI2-2'}"
      ]
     },
     "execution_count": 15,
     "metadata": {},
     "output_type": "execute_result"
    }
   ],
   "source": [
    "from load_images import load_images\n",
    "images = load_images(datasets={\"ADNI2\", \"ADNI2-2\", \"PPMI\"},\n",
    "                     classes={\"CN\", \"AD\", \"Control\"}, size=\"half\", unique=False, blacklist=True, dryrun=True)\n",
    "print(len(images))\n",
    "images[0]"
   ]
  },
  {
   "cell_type": "code",
   "execution_count": 8,
   "metadata": {},
   "outputs": [
    {
     "name": "stdout",
     "output_type": "stream",
     "text": [
      "8902\n",
      "{'CBD', 'AD', 'PSP', 'PD', 'LMCI', 'Prodromal', 'CN', 'Control', 'EMCI', 'SWEDD', 'Oth', 'SMC'}\n"
     ]
    },
    {
     "data": {
      "text/plain": [
       "{'id': '011_S_0002',\n",
       " 'class': 'CN',\n",
       " 'images': [{'uid': 35475,\n",
       "   'blacklisted': False,\n",
       "   'fullsize_img_path': '/data/radiology_datas/JHU-radiology/MNI_skull_stripped/output/CN/011_S_0002/fullsize011_S_0002_2005-08-26_S9107_I35475_flipped_MNI_SS.pkl',\n",
       "   'halfsize_img_path': '/data/radiology_datas/JHU-radiology/MNI_skull_stripped/output/CN/011_S_0002/half_011_S_0002_2005-08-26_S9107_I35475_flipped_MNI_SS.pkl'}],\n",
       " 'dataset': 'ADNI2-2'}"
      ]
     },
     "execution_count": 8,
     "metadata": {},
     "output_type": "execute_result"
    }
   ],
   "source": [
    "json_open = open(\"./all_subject.json\", \"r\")\n",
    "json_load = json.load(json_open)\n",
    "print(len(json_load))\n",
    "class_set = set([j['class'] for j in json_load])\n",
    "print(class_set)\n",
    "json_load[0]"
   ]
  },
  {
   "cell_type": "code",
   "execution_count": 5,
   "metadata": {},
   "outputs": [
    {
     "data": {
      "text/plain": [
       "[{'uid': '01',\n",
       "  'blacklisted': True,\n",
       "  'fullsize_img_path': 'full',\n",
       "  'halfsize_img_path': 'half'},\n",
       " {'uid': '02',\n",
       "  'blacklisted': False,\n",
       "  'fullsize_img_path': 'full',\n",
       "  'halfsize_img_path': 'half'}]"
      ]
     },
     "execution_count": 5,
     "metadata": {},
     "output_type": "execute_result"
    }
   ],
   "source": [
    "images = []\n",
    "images.append(\n",
    "    {\n",
    "        \"uid\": \"01\",\n",
    "        \"blacklisted\": True,\n",
    "        \"fullsize_img_path\": \"full\",\n",
    "        \"halfsize_img_path\": \"half\"\n",
    "    }\n",
    ")\n",
    "images.append(\n",
    "    {\n",
    "        \"uid\": \"02\",\n",
    "        \"blacklisted\": False,\n",
    "        \"fullsize_img_path\": \"full\",\n",
    "        \"halfsize_img_path\": \"half\"\n",
    "    }\n",
    ")\n",
    "images"
   ]
  },
  {
   "cell_type": "code",
   "execution_count": null,
   "metadata": {},
   "outputs": [],
   "source": []
  }
 ],
 "metadata": {
  "interpreter": {
   "hash": "304c78370837cbdd5ebe267a00a40f4c1d9b05b3e15542e195d519cc05296b47"
  },
  "kernelspec": {
   "display_name": "Python 3.8.8 64-bit ('3.8.8')",
   "language": "python",
   "name": "python3"
  },
  "language_info": {
   "codemirror_mode": {
    "name": "ipython",
    "version": 3
   },
   "file_extension": ".py",
   "mimetype": "text/x-python",
   "name": "python",
   "nbconvert_exporter": "python",
   "pygments_lexer": "ipython3",
   "version": "3.8.8"
  },
  "orig_nbformat": 4
 },
 "nbformat": 4,
 "nbformat_minor": 2
}
